{
  "cells": [
    {
      "cell_type": "markdown",
      "metadata": {
        "id": "view-in-github",
        "colab_type": "text"
      },
      "source": [
        "<a href=\"https://colab.research.google.com/github/Mtab-cyber/PCSE22-13/blob/Collab-Commit/Analysis_of_Algorithms.ipynb\" target=\"_parent\"><img src=\"https://colab.research.google.com/assets/colab-badge.svg\" alt=\"Open In Colab\"/></a>"
      ]
    },
    {
      "cell_type": "code",
      "execution_count": null,
      "metadata": {
        "colab": {
          "base_uri": "https://localhost:8080/"
        },
        "id": "W7gfh99nVgkp",
        "outputId": "10a0e4d2-48ca-4c00-f8a2-736fc6b14d04"
      },
      "outputs": [
        {
          "output_type": "stream",
          "name": "stderr",
          "text": [
            "[nltk_data] Downloading package stopwords to /root/nltk_data...\n",
            "[nltk_data]   Unzipping corpora/stopwords.zip.\n"
          ]
        }
      ],
      "source": [
        "import pandas as pd\n",
        "import numpy as np\n",
        "from sklearn.model_selection import train_test_split\n",
        "from mlxtend.plotting import plot_confusion_matrix\n",
        "from sklearn.svm import SVC, LinearSVC, NuSVC\n",
        "from sklearn.tree import DecisionTreeClassifier\n",
        "from sklearn.ensemble import RandomForestClassifier\n",
        "from sklearn.metrics import accuracy_score,confusion_matrix,classification_report\n",
        "from sklearn.model_selection import train_test_split\n",
        "from __future__ import division\n",
        "from collections import Counter\n",
        "from nltk.corpus import stopwords\n",
        "import nltk\n",
        "nltk.download(\"stopwords\")\n",
        "import string\n",
        "import re\n",
        "from sklearn.feature_extraction.text import CountVectorizer"
      ]
    },
    {
      "cell_type": "code",
      "execution_count": null,
      "metadata": {
        "colab": {
          "base_uri": "https://localhost:8080/"
        },
        "id": "ZEIEnY4Kccqw",
        "outputId": "dd5a5fca-938b-48f4-b33b-67d7c20a6f07"
      },
      "outputs": [
        {
          "name": "stdout",
          "output_type": "stream",
          "text": [
            "<class 'pandas.core.frame.DataFrame'>\n",
            "RangeIndex: 1600000 entries, 0 to 1599999\n",
            "Data columns (total 2 columns):\n",
            " #   Column    Non-Null Count    Dtype \n",
            "---  ------    --------------    ----- \n",
            " 0   Analysis  1600000 non-null  object\n",
            " 1   text      1600000 non-null  object\n",
            "dtypes: object(2)\n",
            "memory usage: 24.4+ MB\n"
          ]
        }
      ],
      "source": [
        "#Copying the data into the dataframe\n",
        "\n",
        "col_names = [\"target\", \"ids\", \"date\", \"flag\", \"user\", \"text\"]\n",
        "df = pd.read_csv('/content/drive/MyDrive/training.1600000.processed.noemoticon.csv',encoding = \"ISO-8859-1\",names=col_names)\n",
        "df = df.drop(['ids','date','flag','user'],axis=1)\n",
        "df['target']=df['target'].replace(4,'Positive')\n",
        "df['target']=df['target'].replace(0,'Negative')\n",
        "df.rename(columns = {'target':'Analysis'}, inplace = True)\n",
        "df.info()"
      ]
    },
    {
      "cell_type": "code",
      "execution_count": null,
      "metadata": {
        "id": "KKjgV0PPV8V4"
      },
      "outputs": [],
      "source": [
        "tweets = pd.read_csv('/content/drive/MyDrive/flag1.csv')\n",
        "tweets = tweets.reset_index(drop=True)\n",
        "tweets = tweets.drop(columns=tweets.columns[0],axis=1)\n",
        "text_df = tweets.sample(n=5000)#df.sample(n=10000)\n",
        "#text_df = df.iloc[1000:2000,0:2]\n",
        "#text_df.info()"
      ]
    },
    {
      "cell_type": "code",
      "execution_count": null,
      "metadata": {
        "colab": {
          "base_uri": "https://localhost:8080/",
          "height": 206
        },
        "id": "SKbA1QkkWoSz",
        "outputId": "04f80a7b-07c7-4504-d4f1-18f0870ee7f7"
      },
      "outputs": [
        {
          "output_type": "execute_result",
          "data": {
            "text/plain": [
              "                                                      text  Subjectivity  \\\n",
              "354616                   bed nowtomorrow last day pit camp      0.066667   \n",
              "668169                         everybody left bethany left      0.000000   \n",
              "1551989  kathyxxxx im serious table little girl use cov...      0.583333   \n",
              "760669   hotpinkmarker love show really good watch gonn...      0.600000   \n",
              "969469   ryanshaw im covering friend joeys video blog i...      1.000000   \n",
              "\n",
              "         Polarity  Analysis  \n",
              "354616   0.000000   Neutral  \n",
              "668169   0.000000   Neutral  \n",
              "1551989 -0.260417  Negative  \n",
              "760669   0.937500  Positive  \n",
              "969469   0.000000   Neutral  "
            ],
            "text/html": [
              "\n",
              "  <div id=\"df-8662fdce-6bde-4992-8994-a3567f9686c5\">\n",
              "    <div class=\"colab-df-container\">\n",
              "      <div>\n",
              "<style scoped>\n",
              "    .dataframe tbody tr th:only-of-type {\n",
              "        vertical-align: middle;\n",
              "    }\n",
              "\n",
              "    .dataframe tbody tr th {\n",
              "        vertical-align: top;\n",
              "    }\n",
              "\n",
              "    .dataframe thead th {\n",
              "        text-align: right;\n",
              "    }\n",
              "</style>\n",
              "<table border=\"1\" class=\"dataframe\">\n",
              "  <thead>\n",
              "    <tr style=\"text-align: right;\">\n",
              "      <th></th>\n",
              "      <th>text</th>\n",
              "      <th>Subjectivity</th>\n",
              "      <th>Polarity</th>\n",
              "      <th>Analysis</th>\n",
              "    </tr>\n",
              "  </thead>\n",
              "  <tbody>\n",
              "    <tr>\n",
              "      <th>354616</th>\n",
              "      <td>bed nowtomorrow last day pit camp</td>\n",
              "      <td>0.066667</td>\n",
              "      <td>0.000000</td>\n",
              "      <td>Neutral</td>\n",
              "    </tr>\n",
              "    <tr>\n",
              "      <th>668169</th>\n",
              "      <td>everybody left bethany left</td>\n",
              "      <td>0.000000</td>\n",
              "      <td>0.000000</td>\n",
              "      <td>Neutral</td>\n",
              "    </tr>\n",
              "    <tr>\n",
              "      <th>1551989</th>\n",
              "      <td>kathyxxxx im serious table little girl use cov...</td>\n",
              "      <td>0.583333</td>\n",
              "      <td>-0.260417</td>\n",
              "      <td>Negative</td>\n",
              "    </tr>\n",
              "    <tr>\n",
              "      <th>760669</th>\n",
              "      <td>hotpinkmarker love show really good watch gonn...</td>\n",
              "      <td>0.600000</td>\n",
              "      <td>0.937500</td>\n",
              "      <td>Positive</td>\n",
              "    </tr>\n",
              "    <tr>\n",
              "      <th>969469</th>\n",
              "      <td>ryanshaw im covering friend joeys video blog i...</td>\n",
              "      <td>1.000000</td>\n",
              "      <td>0.000000</td>\n",
              "      <td>Neutral</td>\n",
              "    </tr>\n",
              "  </tbody>\n",
              "</table>\n",
              "</div>\n",
              "      <button class=\"colab-df-convert\" onclick=\"convertToInteractive('df-8662fdce-6bde-4992-8994-a3567f9686c5')\"\n",
              "              title=\"Convert this dataframe to an interactive table.\"\n",
              "              style=\"display:none;\">\n",
              "        \n",
              "  <svg xmlns=\"http://www.w3.org/2000/svg\" height=\"24px\"viewBox=\"0 0 24 24\"\n",
              "       width=\"24px\">\n",
              "    <path d=\"M0 0h24v24H0V0z\" fill=\"none\"/>\n",
              "    <path d=\"M18.56 5.44l.94 2.06.94-2.06 2.06-.94-2.06-.94-.94-2.06-.94 2.06-2.06.94zm-11 1L8.5 8.5l.94-2.06 2.06-.94-2.06-.94L8.5 2.5l-.94 2.06-2.06.94zm10 10l.94 2.06.94-2.06 2.06-.94-2.06-.94-.94-2.06-.94 2.06-2.06.94z\"/><path d=\"M17.41 7.96l-1.37-1.37c-.4-.4-.92-.59-1.43-.59-.52 0-1.04.2-1.43.59L10.3 9.45l-7.72 7.72c-.78.78-.78 2.05 0 2.83L4 21.41c.39.39.9.59 1.41.59.51 0 1.02-.2 1.41-.59l7.78-7.78 2.81-2.81c.8-.78.8-2.07 0-2.86zM5.41 20L4 18.59l7.72-7.72 1.47 1.35L5.41 20z\"/>\n",
              "  </svg>\n",
              "      </button>\n",
              "      \n",
              "  <style>\n",
              "    .colab-df-container {\n",
              "      display:flex;\n",
              "      flex-wrap:wrap;\n",
              "      gap: 12px;\n",
              "    }\n",
              "\n",
              "    .colab-df-convert {\n",
              "      background-color: #E8F0FE;\n",
              "      border: none;\n",
              "      border-radius: 50%;\n",
              "      cursor: pointer;\n",
              "      display: none;\n",
              "      fill: #1967D2;\n",
              "      height: 32px;\n",
              "      padding: 0 0 0 0;\n",
              "      width: 32px;\n",
              "    }\n",
              "\n",
              "    .colab-df-convert:hover {\n",
              "      background-color: #E2EBFA;\n",
              "      box-shadow: 0px 1px 2px rgba(60, 64, 67, 0.3), 0px 1px 3px 1px rgba(60, 64, 67, 0.15);\n",
              "      fill: #174EA6;\n",
              "    }\n",
              "\n",
              "    [theme=dark] .colab-df-convert {\n",
              "      background-color: #3B4455;\n",
              "      fill: #D2E3FC;\n",
              "    }\n",
              "\n",
              "    [theme=dark] .colab-df-convert:hover {\n",
              "      background-color: #434B5C;\n",
              "      box-shadow: 0px 1px 3px 1px rgba(0, 0, 0, 0.15);\n",
              "      filter: drop-shadow(0px 1px 2px rgba(0, 0, 0, 0.3));\n",
              "      fill: #FFFFFF;\n",
              "    }\n",
              "  </style>\n",
              "\n",
              "      <script>\n",
              "        const buttonEl =\n",
              "          document.querySelector('#df-8662fdce-6bde-4992-8994-a3567f9686c5 button.colab-df-convert');\n",
              "        buttonEl.style.display =\n",
              "          google.colab.kernel.accessAllowed ? 'block' : 'none';\n",
              "\n",
              "        async function convertToInteractive(key) {\n",
              "          const element = document.querySelector('#df-8662fdce-6bde-4992-8994-a3567f9686c5');\n",
              "          const dataTable =\n",
              "            await google.colab.kernel.invokeFunction('convertToInteractive',\n",
              "                                                     [key], {});\n",
              "          if (!dataTable) return;\n",
              "\n",
              "          const docLinkHtml = 'Like what you see? Visit the ' +\n",
              "            '<a target=\"_blank\" href=https://colab.research.google.com/notebooks/data_table.ipynb>data table notebook</a>'\n",
              "            + ' to learn more about interactive tables.';\n",
              "          element.innerHTML = '';\n",
              "          dataTable['output_type'] = 'display_data';\n",
              "          await google.colab.output.renderOutput(dataTable, element);\n",
              "          const docLink = document.createElement('div');\n",
              "          docLink.innerHTML = docLinkHtml;\n",
              "          element.appendChild(docLink);\n",
              "        }\n",
              "      </script>\n",
              "    </div>\n",
              "  </div>\n",
              "  "
            ]
          },
          "metadata": {},
          "execution_count": 3
        }
      ],
      "source": [
        "text_df.head()"
      ]
    },
    {
      "cell_type": "code",
      "execution_count": null,
      "metadata": {
        "id": "xcc2tgpcWryb"
      },
      "outputs": [],
      "source": [
        "vect = CountVectorizer(ngram_range=(1,2)).fit(text_df['text'].values.astype('U'))\n",
        "#1.13"
      ]
    },
    {
      "cell_type": "code",
      "execution_count": null,
      "metadata": {
        "colab": {
          "base_uri": "https://localhost:8080/"
        },
        "id": "Ig3UwCh3W_E5",
        "outputId": "e487df61-0948-4200-ebda-b8a4c709c6bb"
      },
      "outputs": [
        {
          "output_type": "stream",
          "name": "stdout",
          "text": [
            "Number of features: 40467\n",
            "\n",
            "Frist 20 features:\n",
            "['aa', 'aa dual', 'aaa', 'aaa new', 'aaaaaah', 'aaaaaah cant', 'aaaaand', 'aaaaand sun', 'aaaages', 'aaaages ago', 'aaaargh', 'aaaghhrr', 'aaaghhrr want', 'aaah', 'aaah ive', 'aaaww', 'aaaww congrats', 'aah', 'aah di', 'aampe']\n"
          ]
        },
        {
          "output_type": "stream",
          "name": "stderr",
          "text": [
            "/usr/local/lib/python3.8/dist-packages/sklearn/utils/deprecation.py:87: FutureWarning: Function get_feature_names is deprecated; get_feature_names is deprecated in 1.0 and will be removed in 1.2. Please use get_feature_names_out instead.\n",
            "  warnings.warn(msg, category=FutureWarning)\n"
          ]
        }
      ],
      "source": [
        "feature_names = vect.get_feature_names()\n",
        "print(\"Number of features: {}\\n\".format(len(feature_names)))\n",
        "print(\"Frist 20 features:\\n{}\".format(feature_names[:20]))"
      ]
    },
    {
      "cell_type": "code",
      "execution_count": null,
      "metadata": {
        "id": "io_yYAwpXbpk"
      },
      "outputs": [],
      "source": [
        "X = text_df['text'].values.astype('U')\n",
        "Y = text_df['Analysis']\n",
        "X = vect.transform(X)\n",
        "# .38"
      ]
    },
    {
      "cell_type": "code",
      "execution_count": null,
      "metadata": {
        "colab": {
          "base_uri": "https://localhost:8080/"
        },
        "id": "gkYGaJYLX2gr",
        "outputId": "2dc84b20-c492-4c2b-da0a-0a8af9fad90a"
      },
      "outputs": [
        {
          "output_type": "stream",
          "name": "stdout",
          "text": [
            "Size of x_train: (4000, 40467)\n",
            "Size of x_test: (1000, 40467)\n",
            "Size of y_train: (4000,)\n",
            "Size of y_test: (1000,)\n"
          ]
        }
      ],
      "source": [
        "x_train, x_test, y_train, y_test = train_test_split(X, Y, test_size=0.20, random_state=1)\n",
        "print(\"Size of x_train:\",(x_train.shape))\n",
        "print(\"Size of x_test:\",(x_test.shape))\n",
        "print(\"Size of y_train:\",(y_train.shape))\n",
        "print(\"Size of y_test:\",(y_test.shape))"
      ]
    },
    {
      "cell_type": "code",
      "execution_count": null,
      "metadata": {
        "colab": {
          "base_uri": "https://localhost:8080/"
        },
        "id": "Buc4xV2qYEug",
        "outputId": "c271b39b-d1e1-4e16-cf8e-97dfa539d295"
      },
      "outputs": [
        {
          "output_type": "execute_result",
          "data": {
            "text/plain": [
              "<4000x40467 sparse matrix of type '<class 'numpy.int64'>'\n",
              "\twith 55218 stored elements in Compressed Sparse Row format>"
            ]
          },
          "metadata": {},
          "execution_count": 8
        }
      ],
      "source": [
        "x_train"
      ]
    },
    {
      "cell_type": "code",
      "execution_count": null,
      "metadata": {
        "id": "ZW3SD_rqoi7f"
      },
      "outputs": [],
      "source": [
        "import collections\n",
        "dict ={}"
      ]
    },
    {
      "cell_type": "code",
      "execution_count": null,
      "metadata": {
        "colab": {
          "base_uri": "https://localhost:8080/"
        },
        "id": "WnSoQv2BYpQv",
        "outputId": "e23f492a-9940-4440-ec3d-1223d40e6857"
      },
      "outputs": [
        {
          "output_type": "stream",
          "name": "stdout",
          "text": [
            "0.786\n",
            "[[115  71  31]\n",
            " [  5 319   9]\n",
            " [ 16  82 352]]\n",
            "\n",
            "\n",
            "              precision    recall  f1-score   support\n",
            "\n",
            "    Negative       0.85      0.53      0.65       217\n",
            "     Neutral       0.68      0.96      0.79       333\n",
            "    Positive       0.90      0.78      0.84       450\n",
            "\n",
            "    accuracy                           0.79      1000\n",
            "   macro avg       0.81      0.76      0.76      1000\n",
            "weighted avg       0.81      0.79      0.78      1000\n",
            "\n"
          ]
        }
      ],
      "source": [
        "from sklearn.linear_model import LogisticRegression\n",
        "logreg = LogisticRegression(max_iter=1600000)\n",
        "logreg.fit(x_train,y_train)\n",
        "logres_pred = logreg.predict(x_test)\n",
        "logreg_acc = accuracy_score(logres_pred, y_test)\n",
        "print(logreg_acc)\n",
        "dict['LogesticRegression'] = (logreg_acc*100)\n",
        "print(confusion_matrix(y_test,logres_pred))\n",
        "print(\"\\n\")\n",
        "print(classification_report(y_test,logres_pred))"
      ]
    },
    {
      "cell_type": "code",
      "execution_count": null,
      "metadata": {
        "id": "UmvRpC2YCnUh"
      },
      "outputs": [],
      "source": [
        "# from sklearn.naive_bayes import GaussianNB\n",
        "# nb = GaussianNB()\n",
        "# nb.fit(x_train.toarray(), y_train)\n",
        "# nb_pred = nb.predict(x_test.toarray())\n",
        "# acc = accuracy_score(nb_pred, y_test)\n",
        "# print(acc)\n",
        "# dict['Naive Bayes Gausian'] = acc*100\n",
        "# print(\"\\n\")\n",
        "# print(confusion_matrix(y_test,nb_pred))\n",
        "# print(\"\\n\")\n",
        "# print(classification_report(y_test,nb_pred))"
      ]
    },
    {
      "cell_type": "code",
      "execution_count": null,
      "metadata": {
        "colab": {
          "base_uri": "https://localhost:8080/"
        },
        "id": "kamC3XkNavej",
        "outputId": "63fde6e5-74cf-499b-ccb7-93d74c1b2d19"
      },
      "outputs": [
        {
          "output_type": "stream",
          "name": "stdout",
          "text": [
            "0.753\n",
            "\n",
            "\n",
            "[[100  82  35]\n",
            " [  3 327   3]\n",
            " [ 18 106 326]]\n",
            "\n",
            "\n",
            "              precision    recall  f1-score   support\n",
            "\n",
            "    Negative       0.83      0.46      0.59       217\n",
            "     Neutral       0.63      0.98      0.77       333\n",
            "    Positive       0.90      0.72      0.80       450\n",
            "\n",
            "    accuracy                           0.75      1000\n",
            "   macro avg       0.79      0.72      0.72      1000\n",
            "weighted avg       0.79      0.75      0.75      1000\n",
            "\n"
          ]
        }
      ],
      "source": [
        "#SVM on sigmoid Kernel\n",
        "from sklearn.svm import SVC\n",
        "svm = SVC(kernel='sigmoid')\n",
        "svm.fit(x_train, y_train)\n",
        "svm_pred = svm.predict(x_test)\n",
        "acc = accuracy_score(svm_pred, y_test)\n",
        "print(acc)\n",
        "dict['Support Vector Machine Sigmoid'] = acc*100\n",
        "print(\"\\n\")\n",
        "print(confusion_matrix(y_test,svm_pred))\n",
        "print(\"\\n\")\n",
        "print(classification_report(y_test,svm_pred))"
      ]
    },
    {
      "cell_type": "code",
      "execution_count": null,
      "metadata": {
        "colab": {
          "base_uri": "https://localhost:8080/"
        },
        "id": "T6RAq3GaavNt",
        "outputId": "f760e993-2122-4df9-a4c7-8513af612e58"
      },
      "outputs": [
        {
          "output_type": "stream",
          "name": "stdout",
          "text": [
            "0.706\n",
            "\n",
            "\n",
            "[[ 64  64  89]\n",
            " [  0 264  69]\n",
            " [  4  68 378]]\n",
            "\n",
            "\n",
            "              precision    recall  f1-score   support\n",
            "\n",
            "    Negative       0.94      0.29      0.45       217\n",
            "     Neutral       0.67      0.79      0.72       333\n",
            "    Positive       0.71      0.84      0.77       450\n",
            "\n",
            "    accuracy                           0.71      1000\n",
            "   macro avg       0.77      0.64      0.65      1000\n",
            "weighted avg       0.74      0.71      0.68      1000\n",
            "\n"
          ]
        }
      ],
      "source": [
        "#SVM on rbf Kernel\n",
        "from sklearn.svm import SVC\n",
        "svm = SVC(kernel='rbf')\n",
        "svm.fit(x_train, y_train)\n",
        "svm_pred = svm.predict(x_test)\n",
        "acc = accuracy_score(svm_pred, y_test)\n",
        "print(acc)\n",
        "dict['Support Vector Machine RBF'] = acc*100\n",
        "print(\"\\n\")\n",
        "print(confusion_matrix(y_test,svm_pred))\n",
        "print(\"\\n\")\n",
        "print(classification_report(y_test,svm_pred))"
      ]
    },
    {
      "cell_type": "code",
      "execution_count": null,
      "metadata": {
        "colab": {
          "base_uri": "https://localhost:8080/"
        },
        "id": "_uc8VqTEau61",
        "outputId": "439b9d10-dab0-41a7-c7fb-e4ec4983fa89"
      },
      "outputs": [
        {
          "output_type": "stream",
          "name": "stdout",
          "text": [
            "0.792\n",
            "\n",
            "\n",
            "[[129  61  27]\n",
            " [  8 320   5]\n",
            " [ 27  80 343]]\n",
            "\n",
            "\n",
            "              precision    recall  f1-score   support\n",
            "\n",
            "    Negative       0.79      0.59      0.68       217\n",
            "     Neutral       0.69      0.96      0.81       333\n",
            "    Positive       0.91      0.76      0.83       450\n",
            "\n",
            "    accuracy                           0.79      1000\n",
            "   macro avg       0.80      0.77      0.77      1000\n",
            "weighted avg       0.81      0.79      0.79      1000\n",
            "\n"
          ]
        }
      ],
      "source": [
        "#SVM on linear Kernel\n",
        "from sklearn.svm import SVC\n",
        "svm = SVC(kernel='linear')\n",
        "svm.fit(x_train, y_train)\n",
        "svm_pred = svm.predict(x_test)\n",
        "acc = accuracy_score(svm_pred, y_test)\n",
        "print(acc)\n",
        "dict['Support Vector Machine Linear'] = acc*100\n",
        "print(\"\\n\")\n",
        "print(confusion_matrix(y_test,svm_pred))\n",
        "print(\"\\n\")\n",
        "print(classification_report(y_test,svm_pred))"
      ]
    },
    {
      "cell_type": "code",
      "execution_count": null,
      "metadata": {
        "id": "rRd-eyuvauqW"
      },
      "outputs": [],
      "source": []
    },
    {
      "cell_type": "code",
      "execution_count": null,
      "metadata": {
        "colab": {
          "base_uri": "https://localhost:8080/"
        },
        "id": "FoO2YkLxhRq-",
        "outputId": "bf14e05f-aa9c-4449-afb6-3d5711d7e80e"
      },
      "outputs": [
        {
          "output_type": "stream",
          "name": "stdout",
          "text": [
            "0.357\n",
            "\n",
            "\n",
            "[[  0 214   3]\n",
            " [  0 333   0]\n",
            " [  0 426  24]]\n",
            "\n",
            "\n",
            "              precision    recall  f1-score   support\n",
            "\n",
            "    Negative       0.00      0.00      0.00       217\n",
            "     Neutral       0.34      1.00      0.51       333\n",
            "    Positive       0.89      0.05      0.10       450\n",
            "\n",
            "    accuracy                           0.36      1000\n",
            "   macro avg       0.41      0.35      0.20      1000\n",
            "weighted avg       0.51      0.36      0.22      1000\n",
            "\n"
          ]
        },
        {
          "output_type": "stream",
          "name": "stderr",
          "text": [
            "/usr/local/lib/python3.8/dist-packages/sklearn/metrics/_classification.py:1318: UndefinedMetricWarning: Precision and F-score are ill-defined and being set to 0.0 in labels with no predicted samples. Use `zero_division` parameter to control this behavior.\n",
            "  _warn_prf(average, modifier, msg_start, len(result))\n",
            "/usr/local/lib/python3.8/dist-packages/sklearn/metrics/_classification.py:1318: UndefinedMetricWarning: Precision and F-score are ill-defined and being set to 0.0 in labels with no predicted samples. Use `zero_division` parameter to control this behavior.\n",
            "  _warn_prf(average, modifier, msg_start, len(result))\n",
            "/usr/local/lib/python3.8/dist-packages/sklearn/metrics/_classification.py:1318: UndefinedMetricWarning: Precision and F-score are ill-defined and being set to 0.0 in labels with no predicted samples. Use `zero_division` parameter to control this behavior.\n",
            "  _warn_prf(average, modifier, msg_start, len(result))\n"
          ]
        }
      ],
      "source": [
        "#SVM on polynomial Kernel\n",
        "from sklearn.svm import SVC\n",
        "svm = SVC(kernel='poly')\n",
        "svm.fit(x_train, y_train)\n",
        "svm_pred = svm.predict(x_test)\n",
        "acc = accuracy_score(svm_pred, y_test)\n",
        "print(acc)\n",
        "dict['Support Vector Machine Poly'] = acc*100\n",
        "print(\"\\n\")\n",
        "print(confusion_matrix(y_test,svm_pred))\n",
        "print(\"\\n\")\n",
        "print(classification_report(y_test,svm_pred))"
      ]
    },
    {
      "cell_type": "code",
      "execution_count": null,
      "metadata": {
        "id": "oMMPRNl5h2FZ"
      },
      "outputs": [],
      "source": []
    },
    {
      "cell_type": "code",
      "execution_count": null,
      "metadata": {
        "colab": {
          "base_uri": "https://localhost:8080/"
        },
        "id": "LxSAU_V4iYR9",
        "outputId": "24630121-9391-4793-88ae-d6370a73785a"
      },
      "outputs": [
        {
          "output_type": "stream",
          "name": "stdout",
          "text": [
            "0.822\n",
            "\n",
            "\n",
            "[[133  39  45]\n",
            " [ 12 313   8]\n",
            " [ 26  48 376]]\n",
            "\n",
            "\n",
            "              precision    recall  f1-score   support\n",
            "\n",
            "    Negative       0.78      0.61      0.69       217\n",
            "     Neutral       0.78      0.94      0.85       333\n",
            "    Positive       0.88      0.84      0.86       450\n",
            "\n",
            "    accuracy                           0.82      1000\n",
            "   macro avg       0.81      0.80      0.80      1000\n",
            "weighted avg       0.82      0.82      0.82      1000\n",
            "\n"
          ]
        }
      ],
      "source": [
        "#Decision Tree\n",
        "from sklearn.tree import DecisionTreeClassifier as DTC\n",
        "des_tree = DTC(criterion = 'entropy')\n",
        "des_tree.fit(x_train, y_train)\n",
        "dtc_pred = des_tree.predict(x_test)\n",
        "acc = accuracy_score(dtc_pred, y_test)\n",
        "print(acc)\n",
        "dict['Decision Tree Classification'] = acc*100\n",
        "print(\"\\n\")\n",
        "print(confusion_matrix(y_test,dtc_pred))\n",
        "print(\"\\n\")\n",
        "print(classification_report(y_test,dtc_pred))"
      ]
    },
    {
      "cell_type": "code",
      "execution_count": null,
      "metadata": {
        "colab": {
          "base_uri": "https://localhost:8080/"
        },
        "id": "W5XJy0Zpi9NC",
        "outputId": "f2d620a2-eb15-45da-f7d2-8e04bc1ea8d3"
      },
      "outputs": [
        {
          "output_type": "stream",
          "name": "stdout",
          "text": [
            "0.764\n",
            "\n",
            "\n",
            "[[118  58  41]\n",
            " [  9 317   7]\n",
            " [ 35  86 329]]\n",
            "\n",
            "\n",
            "              precision    recall  f1-score   support\n",
            "\n",
            "    Negative       0.73      0.54      0.62       217\n",
            "     Neutral       0.69      0.95      0.80       333\n",
            "    Positive       0.87      0.73      0.80       450\n",
            "\n",
            "    accuracy                           0.76      1000\n",
            "   macro avg       0.76      0.74      0.74      1000\n",
            "weighted avg       0.78      0.76      0.76      1000\n",
            "\n"
          ]
        }
      ],
      "source": [
        "#Random Forest\n",
        "from sklearn.ensemble import RandomForestClassifier as RFC\n",
        "rfc = RFC(n_estimators=5, criterion='entropy')\n",
        "rfc.fit(x_train, y_train)\n",
        "rfc_pred = rfc.predict(x_test)\n",
        "acc = accuracy_score(rfc_pred, y_test)\n",
        "print(acc)\n",
        "dict['RandomForestClassifier'] = acc*100\n",
        "print(\"\\n\")\n",
        "print(confusion_matrix(y_test,rfc_pred))\n",
        "print(\"\\n\")\n",
        "print(classification_report(y_test,rfc_pred))"
      ]
    },
    {
      "cell_type": "code",
      "execution_count": null,
      "metadata": {
        "id": "G4oHMvzzjdeC"
      },
      "outputs": [],
      "source": []
    },
    {
      "cell_type": "code",
      "execution_count": null,
      "metadata": {
        "id": "eMjPNsSiWXSe"
      },
      "outputs": [],
      "source": [
        "#Linear Regression is a type of classification used for Regression problem.\n",
        "\n",
        "# from sklearn import preprocessing\n",
        "# label_encoder = preprocessing.LabelEncoder()\n",
        "# lr_y= label_encoder.fit_transform(y_train)\n",
        "# test_y = label_encoder.fit_transform(y_test)"
      ]
    },
    {
      "cell_type": "code",
      "execution_count": null,
      "metadata": {
        "id": "fiowieaGUYdS"
      },
      "outputs": [],
      "source": [
        "# from sklearn.linear_model import LinearRegression\n",
        "# lr = LinearRegression()\n",
        "# lr.fit(x_train, lr_y)\n",
        "# # lr_pred = lr.predict(x_test)\n",
        "# print(lr.score(x_test, test_y))"
      ]
    },
    {
      "cell_type": "code",
      "execution_count": null,
      "metadata": {
        "id": "TE0-vYdIX4mh"
      },
      "outputs": [],
      "source": [
        "# from sklearn.preprocessing import StandardScaler\n",
        "# scaler = StandardScaler()\n",
        "# scaler.fit(x_train)\n",
        "# X_train = scaler.transform(x_train)\n",
        "# X_test = scaler.transform(x_test)"
      ]
    },
    {
      "cell_type": "code",
      "execution_count": null,
      "metadata": {
        "colab": {
          "base_uri": "https://localhost:8080/"
        },
        "id": "E7HeyY3iXj11",
        "outputId": "e7fcc91f-0fc9-4e9b-bb9c-1f0919d29363"
      },
      "outputs": [
        {
          "output_type": "stream",
          "name": "stdout",
          "text": [
            "0.338\n",
            "\n",
            "\n",
            "[[ 16 201   0]\n",
            " [ 37 296   0]\n",
            " [ 20 404  26]]\n",
            "\n",
            "\n",
            "              precision    recall  f1-score   support\n",
            "\n",
            "    Negative       0.22      0.07      0.11       217\n",
            "     Neutral       0.33      0.89      0.48       333\n",
            "    Positive       1.00      0.06      0.11       450\n",
            "\n",
            "    accuracy                           0.34      1000\n",
            "   macro avg       0.52      0.34      0.23      1000\n",
            "weighted avg       0.61      0.34      0.23      1000\n",
            "\n"
          ]
        }
      ],
      "source": [
        "from sklearn.neighbors import KNeighborsClassifier\n",
        "knn = KNeighborsClassifier(n_neighbors = 5)\n",
        "knn.fit(x_train, y_train)\n",
        "knn_pred = knn.predict(x_test)\n",
        "acc = accuracy_score(knn_pred, y_test)\n",
        "print(acc)\n",
        "dict['KNN'] = acc*100\n",
        "print(\"\\n\")\n",
        "print(confusion_matrix(y_test,knn_pred))\n",
        "print(\"\\n\")\n",
        "print(classification_report(y_test,knn_pred))"
      ]
    },
    {
      "cell_type": "code",
      "execution_count": null,
      "metadata": {
        "id": "ACpLQTffYW6b"
      },
      "outputs": [],
      "source": []
    },
    {
      "cell_type": "code",
      "execution_count": null,
      "metadata": {
        "colab": {
          "base_uri": "https://localhost:8080/"
        },
        "id": "0k19VVN2Z4Ea",
        "outputId": "c304a824-85b1-4078-af44-7d78da968d23"
      },
      "outputs": [
        {
          "output_type": "stream",
          "name": "stdout",
          "text": [
            "0.449\n",
            "\n",
            "\n",
            "[[  0   0 217]\n",
            " [  0   0 333]\n",
            " [  0   1 449]]\n",
            "\n",
            "\n",
            "              precision    recall  f1-score   support\n",
            "\n",
            "    Negative       0.00      0.00      0.00       217\n",
            "     Neutral       0.00      0.00      0.00       333\n",
            "    Positive       0.45      1.00      0.62       450\n",
            "\n",
            "    accuracy                           0.45      1000\n",
            "   macro avg       0.15      0.33      0.21      1000\n",
            "weighted avg       0.20      0.45      0.28      1000\n",
            "\n"
          ]
        },
        {
          "output_type": "stream",
          "name": "stderr",
          "text": [
            "/usr/local/lib/python3.8/dist-packages/sklearn/metrics/_classification.py:1318: UndefinedMetricWarning: Precision and F-score are ill-defined and being set to 0.0 in labels with no predicted samples. Use `zero_division` parameter to control this behavior.\n",
            "  _warn_prf(average, modifier, msg_start, len(result))\n",
            "/usr/local/lib/python3.8/dist-packages/sklearn/metrics/_classification.py:1318: UndefinedMetricWarning: Precision and F-score are ill-defined and being set to 0.0 in labels with no predicted samples. Use `zero_division` parameter to control this behavior.\n",
            "  _warn_prf(average, modifier, msg_start, len(result))\n",
            "/usr/local/lib/python3.8/dist-packages/sklearn/metrics/_classification.py:1318: UndefinedMetricWarning: Precision and F-score are ill-defined and being set to 0.0 in labels with no predicted samples. Use `zero_division` parameter to control this behavior.\n",
            "  _warn_prf(average, modifier, msg_start, len(result))\n"
          ]
        }
      ],
      "source": [
        "from sklearn.ensemble import GradientBoostingClassifier\n",
        "gbc=GradientBoostingClassifier(n_estimators=500,learning_rate=0.05,random_state=100,max_features=5 )\n",
        "gbc.fit(x_train,y_train)\n",
        "gbc_pred = gbc.predict(x_test)\n",
        "acc = accuracy_score(gbc_pred, y_test)\n",
        "print(acc)\n",
        "dict['Gradient Boosting Classifier'] = acc*100\n",
        "print(\"\\n\")\n",
        "print(confusion_matrix(y_test,gbc_pred))\n",
        "print(\"\\n\")\n",
        "print(classification_report(y_test,gbc_pred))"
      ]
    },
    {
      "cell_type": "code",
      "execution_count": null,
      "metadata": {
        "id": "OthqC0Z6aRLg"
      },
      "outputs": [],
      "source": []
    },
    {
      "cell_type": "code",
      "execution_count": null,
      "metadata": {
        "id": "nhyCvSmncBIY",
        "colab": {
          "base_uri": "https://localhost:8080/"
        },
        "outputId": "c7ecf6b5-dfb8-48fe-ce4a-82ddb752d0a6"
      },
      "outputs": [
        {
          "output_type": "stream",
          "name": "stdout",
          "text": [
            "{'LogesticRegression': 78.60000000000001, 'Support Vector Machine Sigmoid': 75.3, 'Support Vector Machine RBF': 70.6, 'Support Vector Machine Linear': 79.2, 'Support Vector Machine Poly': 35.699999999999996, 'Decision Tree Classification': 82.19999999999999, 'RandomForestClassifier': 76.4, 'KNN': 33.800000000000004, 'Gradient Boosting Classifier': 44.9}\n"
          ]
        }
      ],
      "source": [
        "print(dict)"
      ]
    },
    {
      "cell_type": "code",
      "execution_count": null,
      "metadata": {
        "id": "oFlnyivQ02la"
      },
      "outputs": [],
      "source": []
    },
    {
      "cell_type": "code",
      "execution_count": null,
      "metadata": {
        "id": "TJjAH4m0B6ro",
        "colab": {
          "base_uri": "https://localhost:8080/",
          "height": 295
        },
        "outputId": "fc0d59bc-6831-49c7-eae8-f1e8a1c1531a"
      },
      "outputs": [
        {
          "output_type": "display_data",
          "data": {
            "text/plain": [
              "<Figure size 432x288 with 1 Axes>"
            ],
            "image/png": "[encoded data removed]"
          },
          "metadata": {
            "needs_background": "light"
          }
        }
      ],
      "source": [
        "import matplotlib.pylab as plot\n",
        "\n",
        "data = dict.items()\n",
        "# data = sorted(data)\n",
        "\n",
        "x, y = zip(*data)\n",
        "\n",
        "plot.plot(x, y)\n",
        "plot.xlabel('Accuracy')\n",
        "plot.ylabel('Classifier Used')\n",
        "plot.title('Comparision')\n",
        "plot.ylim(0,100)\n",
        "plot.show()"
      ]
    }
  ],
  "metadata": {
    "colab": {
      "provenance": [],
      "mount_file_id": "1UusnOQDla6LrQW5WhsDoRrY4ZrRtlGs1",
      "authorship_tag": "ABX9TyPL5Ncj/TyfHC1krpIwtNex",
      "include_colab_link": true
    },
    "kernelspec": {
      "display_name": "Python 3",
      "name": "python3"
    },
    "language_info": {
      "name": "python"
    }
  },
  "nbformat": 4,
  "nbformat_minor": 0
}